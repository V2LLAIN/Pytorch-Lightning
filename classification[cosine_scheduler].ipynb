{
 "cells": [
  {
   "cell_type": "code",
   "execution_count": 2,
   "metadata": {},
   "outputs": [
    {
     "name": "stderr",
     "output_type": "stream",
     "text": [
      "/usr/local/lib/python3.10/dist-packages/tqdm/auto.py:21: TqdmWarning: IProgress not found. Please update jupyter and ipywidgets. See https://ipywidgets.readthedocs.io/en/stable/user_install.html\n",
      "  from .autonotebook import tqdm as notebook_tqdm\n"
     ]
    },
    {
     "name": "stdout",
     "output_type": "stream",
     "text": [
      "Number of available GPUs: 8\n",
      "GPU 0 : Tesla V100-SXM2-32GB\n",
      "GPU 1 : Tesla V100-SXM2-32GB\n",
      "GPU 2 : Tesla V100-SXM2-32GB\n",
      "GPU 3 : Tesla V100-SXM2-32GB\n",
      "GPU 4 : Tesla V100-SXM2-32GB\n",
      "GPU 5 : Tesla V100-SXM2-32GB\n",
      "GPU 6 : Tesla V100-SXM2-32GB\n",
      "GPU 7 : Tesla V100-SXM2-32GB\n",
      "Available CPU cores: 40\n"
     ]
    },
    {
     "data": {
      "text/plain": [
       "{'IMG_SIZE': 28,\n",
       " 'EPOCHS': 10,\n",
       " 'LEARNING_RATE': 0.0005,\n",
       " 'BATCH_SIZE': 32,\n",
       " 'SEED': 41,\n",
       " 'WORKERS': 0,\n",
       " 'NUM_SAMPLES': 32,\n",
       " 'NUM_CLASSES': 10,\n",
       " 'WARMUP_STEPS': 50,\n",
       " 'MAX_STEPS': 1000,\n",
       " 'MAX_GPUS': 8,\n",
       " 'TOTAL_SAMPLES': None}"
      ]
     },
     "execution_count": 2,
     "metadata": {},
     "output_type": "execute_result"
    }
   ],
   "source": [
    "#import cv2 \n",
    "import wandb, os, random, math\n",
    "import numpy as np\n",
    "import matplotlib.pyplot as plt\n",
    "from sklearn.model_selection import train_test_split\n",
    "\n",
    "import torch\n",
    "import torch.nn as nn\n",
    "import torchmetrics\n",
    "import pytorch_lightning as pl\n",
    "from torchvision import datasets, transforms\n",
    "from torch.optim.lr_scheduler import LambdaLR\n",
    "from torch.utils.data import DataLoader, Subset\n",
    "from pytorch_lightning.callbacks import ModelCheckpoint\n",
    "from pytorch_lightning.loggers import WandbLogger\n",
    "from torch.optim.lr_scheduler import CosineAnnealingLR\n",
    "import multiprocessing\n",
    "\n",
    "# GPU 2와 4만 사용하도록 환경 변수 설정\n",
    "os.environ[\"CUDA_VISIBLE_DEVICES\"]= \"0,1,2,3,4,5,6,7\"\n",
    "device = torch.device('cuda') if torch.cuda.is_available() else torch.device('cpu')\n",
    "\n",
    "# 사용 가능한 GPU, CPU 코어 수 확인\n",
    "num_gpus = torch.cuda.device_count()\n",
    "print(\"Number of available GPUs:\", num_gpus)\n",
    "\n",
    "for i in range(num_gpus):\n",
    "    print(\"GPU\", i, \":\", torch.cuda.get_device_name(i))\n",
    "\n",
    "num_cpus = multiprocessing.cpu_count()\n",
    "print(\"Available CPU cores:\", num_cpus)\n",
    "\n",
    "CFG = {\n",
    "    'IMG_SIZE':28,\n",
    "    'EPOCHS':10,\n",
    "    'LEARNING_RATE':5e-4,\n",
    "    'BATCH_SIZE':32,\n",
    "    'SEED':41,\n",
    "    'WORKERS': min(0, os.cpu_count()),\n",
    "    'NUM_SAMPLES':32,\n",
    "    'NUM_CLASSES':10,\n",
    "    'WARMUP_STEPS':50,\n",
    "    'MAX_STEPS': 1000,\n",
    "    'MAX_GPUS': num_gpus,\n",
    "    'TOTAL_SAMPLES': None,\n",
    "}\n",
    "\n",
    "def calculate_max_iterations(total_samples=CFG['TOTAL_SAMPLES'], batch_size=CFG['BATCH_SIZE'], num_epochs=CFG['EPOCHS'], num_gpus=CFG['MAX_GPUS'], num_nodes=1):\n",
    "    effective_batch_size = batch_size * num_gpus * num_nodes\n",
    "    max_iter = (total_samples / effective_batch_size) * num_epochs\n",
    "    return int(max_iter)\n",
    "\n",
    "CFG"
   ]
  },
  {
   "cell_type": "markdown",
   "metadata": {},
   "source": [
    "## Seed 및 Data Preprocessing "
   ]
  },
  {
   "cell_type": "code",
   "execution_count": 3,
   "metadata": {},
   "outputs": [],
   "source": [
    "# for. 실험할 때마다 동일한 시드로 난수를 생성\n",
    "def seed_everything(seed):\n",
    "    random.seed(seed)\n",
    "    os.environ['PYTHONHASHSEED'] = str(seed)\n",
    "    np.random.seed(seed)\n",
    "    torch.manual_seed(seed)\n",
    "    torch.cuda.manual_seed(seed)\n",
    "    torch.backends.cudnn.deterministic = True\n",
    "    torch.backends.cudnn.benchmark = False\n",
    "\n",
    "seed_everything(CFG['SEED']) # Seed 고정\n",
    "\n",
    "\n",
    "\n",
    "\n",
    "class MNISTDataModule(pl.LightningDataModule):\n",
    "    def __init__(self, batch_size, data_dir: str = './data'):\n",
    "        super().__init__()\n",
    "        self.data_dir = data_dir\n",
    "        self.batch_size = batch_size\n",
    "\n",
    "        self.transform = transforms.Compose([\n",
    "            transforms.ToTensor(),\n",
    "            transforms.Normalize((0.5,), (0.5,)) # 1-channel용 정규화\n",
    "            #transforms.Normalize((0.5, 0.5, 0.5), (0.5, 0.5, 0.5)) # 3-channel용 정규화\n",
    "        ])        \n",
    "        self.dims = (1, 28, 28)\n",
    "        self.num_classes = 10\n",
    "        \n",
    "    def prepare_data(self):\n",
    "        # download \n",
    "        datasets.MNIST(self.data_dir, train=True, download=True)\n",
    "        datasets.MNIST(self.data_dir, train=False, download=True)\n",
    "        \n",
    "    def setup(self, stage=None):\n",
    "        # Assign train/val datasets for use in dataloaders\n",
    "        if stage == 'fit' or stage is None:\n",
    "            self.mnist_full = datasets.MNIST(self.data_dir, train=True, transform=self.transform)\n",
    "            self.train_idx, self.val_idx = train_test_split(list(range(len(self.mnist_full))), \n",
    "                                                            test_size=0.1, \n",
    "                                                            random_state=CFG['SEED'])\n",
    "            self.train_subset = Subset(self.mnist_full, self.train_idx)\n",
    "            self.val_subset = Subset(self.mnist_full, self.val_idx)\n",
    "    \n",
    "        # Assign test dataset for use in dataloader(s)\n",
    "        if stage == 'test' or stage is None:\n",
    "            self.mnist_test = datasets.MNIST(self.data_dir, train=False, transform=self.transform)\n",
    "\n",
    "    def print_train_samples_count(self):\n",
    "        # Make sure that the setup method has been called and train_subset is initialized\n",
    "        if hasattr(self, 'train_subset'):\n",
    "            train_samples_count = len(self.train_subset)\n",
    "            print(\"Number of training samples:\", train_samples_count)\n",
    "        else:\n",
    "            print(\"train_subset is not initialized. Please call the setup method first.\")\n",
    "        return train_samples_count\n",
    "        \n",
    "    def train_dataloader(self):\n",
    "        return DataLoader(self.train_subset, batch_size=self.batch_size, shuffle=True, num_workers=CFG['WORKERS'])\n",
    "\n",
    "    def val_dataloader(self):\n",
    "        return DataLoader(self.val_subset, batch_size=self.batch_size, num_workers=CFG['WORKERS'])\n",
    "\n",
    "    def test_dataloader(self):\n",
    "        return DataLoader(self.mnist_test, batch_size=self.batch_size, num_workers=CFG['WORKERS'])"
   ]
  },
  {
   "cell_type": "markdown",
   "metadata": {},
   "source": [
    "# Image Prediction Callback"
   ]
  },
  {
   "cell_type": "code",
   "execution_count": 4,
   "metadata": {},
   "outputs": [
    {
     "name": "stdout",
     "output_type": "stream",
     "text": [
      "Number of training samples: 54000\n"
     ]
    }
   ],
   "source": [
    "class ImagePredictionLogger(pl.Callback):\n",
    "    \"\"\"\n",
    "    Args:\n",
    "        val_samples (tuple): img와 label 튜플\n",
    "        num_samples (int): W&B Dashboard에 표시할 이미지 개수\n",
    "    \"\"\"\n",
    "    def __init__(self, val_samples, num_samples=CFG['NUM_SAMPLES']): \n",
    "        super(ImagePredictionLogger, self).__init__()\n",
    "        self.num_samples = num_samples\n",
    "        self.val_imgs, self.val_labels = val_samples\n",
    "        \n",
    "    def on_validation_epoch_end(self, trainer, pl_module):\n",
    "        # Bring the tensors to CPU\n",
    "        val_imgs = self.val_imgs.to(device=pl_module.device)\n",
    "        val_labels = self.val_labels.to(device=pl_module.device)\n",
    "        # Get model prediction\n",
    "        logits = pl_module(val_imgs)\n",
    "        preds = torch.argmax(logits, -1)\n",
    "        # Log the images as wandb Image\n",
    "        trainer.logger.experiment.log({\n",
    "            \"examples\":[wandb.Image(x, caption=f\"Pred:{pred}, Label:{y}\") \n",
    "                           for x, pred, y in zip(val_imgs[:self.num_samples], \n",
    "                                                 preds[:self.num_samples], \n",
    "                                                 val_labels[:self.num_samples])]\n",
    "            })\n",
    "        \n",
    "        \n",
    "dm = MNISTDataModule(batch_size=CFG['BATCH_SIZE'])\n",
    "dm.prepare_data() # MNIST 데이터 다운로드\n",
    "dm.setup()\n",
    "CFG['TOTAL_SAMPLES'] = dm.print_train_samples_count()\n",
    "\n",
    "val_samples = next(iter(dm.val_dataloader()))\n",
    "val_imgs, val_labels = val_samples[0], val_samples[1]\n",
    "val_imgs.shape, val_labels.shape   \n",
    "\n",
    "train_samples = next(iter(dm.train_dataloader()))\n",
    "train_imgs, train_labels = train_samples[0], train_samples[1]"
   ]
  },
  {
   "cell_type": "markdown",
   "metadata": {},
   "source": [
    "# Model 정의"
   ]
  },
  {
   "cell_type": "code",
   "execution_count": 5,
   "metadata": {},
   "outputs": [],
   "source": [
    "class RNN(pl.LightningModule):\n",
    "    def __init__(self, input_size=28, hidden_size=128, output_size=10, num_layers=1):\n",
    "        super(RNN, self).__init__()\n",
    "        self.save_hyperparameters()\n",
    "        self.accuracy = torchmetrics.Accuracy(\"multiclass\", num_classes=CFG['NUM_CLASSES'])\n",
    "        \n",
    "        self.hidden_size = hidden_size\n",
    "        self.num_layers = num_layers\n",
    "        self.rnn = nn.RNN(input_size, hidden_size, num_layers, batch_first=True)\n",
    "        self.fc = nn.Linear(hidden_size, output_size)\n",
    "\n",
    "    def forward(self, x):\n",
    "        x = x.view(x.size(0), 28, 28)\n",
    "        h0 = torch.zeros(self.num_layers, x.size(0), self.hidden_size).to(x.device)\n",
    "        out, _ = self.rnn(x, h0)\n",
    "        out = self.fc(out[:, -1, :])\n",
    "        return out\n",
    "\n",
    "    def training_step(self, batch, batch_idx):\n",
    "        x, y = batch\n",
    "        y_hat = self(x)\n",
    "        loss = nn.CrossEntropyLoss()(y_hat, y)\n",
    "        acc = self.accuracy(y_hat, y)       \n",
    "        self.log('train_loss', loss, on_step=True, on_epoch=True, logger=True)\n",
    "        self.log('train_acc', acc, on_step=True, on_epoch=True, logger=True)\n",
    "        return {'loss': loss, 'train_accuracy': acc}\n",
    "\n",
    "    def validation_step(self, batch, batch_idx):\n",
    "        x, y = batch\n",
    "        y_hat = self(x)\n",
    "        loss = nn.CrossEntropyLoss()(y_hat, y)\n",
    "        acc = self.accuracy(y_hat, y)   \n",
    "        self.log('val_loss', loss, prog_bar=True)\n",
    "        self.log('val_acc', acc, prog_bar=True)\n",
    "        return {'val_loss': loss, 'val_accuracy': acc}\n",
    "\n",
    "    def test_step(self, batch, batch_idx):\n",
    "        x, y = batch\n",
    "        y_hat = self(x)\n",
    "        loss = nn.CrossEntropyLoss()(y_hat, y)\n",
    "        acc = self.accuracy(y_hat, y)   \n",
    "        self.log('test_loss', loss)\n",
    "        self.log('test_acc', acc)\n",
    "        return loss\n",
    "    \n",
    "    @staticmethod\n",
    "    def cosine_scheduler(optimizer, training_steps, warmup_steps):\n",
    "        def lr_lambda(current_step):\n",
    "            if current_step < warmup_steps:\n",
    "                return current_step / max(1, warmup_steps)\n",
    "            progress = current_step - warmup_steps\n",
    "            progress /= max(1, training_steps - warmup_steps)\n",
    "            return max(0.0, 0.5 * (1.0 + math.cos(math.pi * progress)))\n",
    "\n",
    "        return LambdaLR(optimizer, lr_lambda)\n",
    "    \n",
    "    def configure_optimizers(self):\n",
    "        max_iter = calculate_max_iterations(CFG['TOTAL_SAMPLES'], CFG['BATCH_SIZE'], CFG['EPOCHS'], CFG['MAX_GPUS'])\n",
    "        optimizer = torch.optim.Adam(self.parameters(), lr=CFG['LEARNING_RATE'])\n",
    "        scheduler = {\n",
    "            \"scheduler\": self.cosine_scheduler(optimizer, max_iter, CFG['WARMUP_STEPS']),\n",
    "            \"name\": \"learning_rate\",\n",
    "            \"interval\": \"step\",\n",
    "        }\n",
    "        return [optimizer], [scheduler]"
   ]
  },
  {
   "cell_type": "code",
   "execution_count": null,
   "metadata": {},
   "outputs": [],
   "source": [
    "model = RNN()\n",
    "wandb.login(key='eed81e1c0a41dd8dd67a4ca90cea1be5a06d4eb0')\n",
    "wandb_logger = WandbLogger(project='MNIST', entity='hcim', name='RNN')\n",
    "\n",
    "checkpoint_callback = ModelCheckpoint(\n",
    "    monitor='val_loss',  \n",
    "    dirpath='./model/',  # 모델 저장 경로\n",
    "    filename='best-model-{epoch:02d}-{val_acc:.2f}',\n",
    "    save_top_k=1,  # 최고 성능의 모델 1개만 저장\n",
    "    mode='max',  # 'max'는 정확도를 최대화 할 때 사용\n",
    ")\n",
    "\n",
    "\n",
    "trainer = pl.Trainer(\n",
    "    max_epochs=CFG['EPOCHS'],\n",
    "    logger=wandb_logger,\n",
    "    callbacks=[checkpoint_callback,\n",
    "               ImagePredictionLogger(val_samples)],\n",
    "    accelerator='gpu',\n",
    "    #devices=[1]\n",
    ")\n",
    "\n",
    "trainer.fit(model, dm)"
   ]
  },
  {
   "cell_type": "code",
   "execution_count": null,
   "metadata": {},
   "outputs": [
    {
     "name": "stderr",
     "output_type": "stream",
     "text": [
      "LOCAL_RANK: 0 - CUDA_VISIBLE_DEVICES: [2,4]\n"
     ]
    },
    {
     "name": "stdout",
     "output_type": "stream",
     "text": [
      "Best model path: /root/model/best-model-epoch=00-val_acc=0.88.ckpt\n",
      "Testing DataLoader 0: 100%|██████████| 313/313 [00:03<00:00, 100.96it/s]\n"
     ]
    },
    {
     "data": {
      "text/html": [
       "<pre style=\"white-space:pre;overflow-x:auto;line-height:normal;font-family:Menlo,'DejaVu Sans Mono',consolas,'Courier New',monospace\">┏━━━━━━━━━━━━━━━━━━━━━━━━━━━┳━━━━━━━━━━━━━━━━━━━━━━━━━━━┓\n",
       "┃<span style=\"font-weight: bold\">        Test metric        </span>┃<span style=\"font-weight: bold\">       DataLoader 0        </span>┃\n",
       "┡━━━━━━━━━━━━━━━━━━━━━━━━━━━╇━━━━━━━━━━━━━━━━━━━━━━━━━━━┩\n",
       "│<span style=\"color: #008080; text-decoration-color: #008080\">         test_acc          </span>│<span style=\"color: #800080; text-decoration-color: #800080\">    0.9677000045776367     </span>│\n",
       "│<span style=\"color: #008080; text-decoration-color: #008080\">         test_loss         </span>│<span style=\"color: #800080; text-decoration-color: #800080\">    0.11055818945169449    </span>│\n",
       "└───────────────────────────┴───────────────────────────┘\n",
       "</pre>\n"
      ],
      "text/plain": [
       "┏━━━━━━━━━━━━━━━━━━━━━━━━━━━┳━━━━━━━━━━━━━━━━━━━━━━━━━━━┓\n",
       "┃\u001b[1m \u001b[0m\u001b[1m       Test metric       \u001b[0m\u001b[1m \u001b[0m┃\u001b[1m \u001b[0m\u001b[1m      DataLoader 0       \u001b[0m\u001b[1m \u001b[0m┃\n",
       "┡━━━━━━━━━━━━━━━━━━━━━━━━━━━╇━━━━━━━━━━━━━━━━━━━━━━━━━━━┩\n",
       "│\u001b[36m \u001b[0m\u001b[36m        test_acc         \u001b[0m\u001b[36m \u001b[0m│\u001b[35m \u001b[0m\u001b[35m   0.9677000045776367    \u001b[0m\u001b[35m \u001b[0m│\n",
       "│\u001b[36m \u001b[0m\u001b[36m        test_loss        \u001b[0m\u001b[36m \u001b[0m│\u001b[35m \u001b[0m\u001b[35m   0.11055818945169449   \u001b[0m\u001b[35m \u001b[0m│\n",
       "└───────────────────────────┴───────────────────────────┘\n"
      ]
     },
     "metadata": {},
     "output_type": "display_data"
    },
    {
     "data": {
      "text/html": [
       "<style>\n",
       "    table.wandb td:nth-child(1) { padding: 0 10px; text-align: left ; width: auto;} td:nth-child(2) {text-align: left ; width: 100%}\n",
       "    .wandb-row { display: flex; flex-direction: row; flex-wrap: wrap; justify-content: flex-start; width: 100% }\n",
       "    .wandb-col { display: flex; flex-direction: column; flex-basis: 100%; flex: 1; padding: 10px; }\n",
       "    </style>\n",
       "<div class=\"wandb-row\"><div class=\"wandb-col\"><h3>Run history:</h3><br/><table class=\"wandb\"><tr><td>epoch</td><td>▁▁▁▁▂▂▂▂▃▃▃▃▃▃▃▃▄▄▄▄▅▅▅▅▆▆▆▆▆▆▆▆▇▇▇▇████</td></tr><tr><td>test_acc</td><td>▁</td></tr><tr><td>test_loss</td><td>▁</td></tr><tr><td>train_acc_epoch</td><td>▁▆▇▇▇▇████</td></tr><tr><td>train_acc_step</td><td>▁▂▅▆▆██▇▇▇▆█▇█▇█▇▆▇▇██▆▇██████▇█████████</td></tr><tr><td>train_loss_epoch</td><td>█▃▃▂▂▂▁▁▁▁</td></tr><tr><td>train_loss_step</td><td>█▇▄▃▅▂▂▂▃▃▃▂▄▁▂▂▂▃▂▂▁▂▂▂▁▁▁▁▁▂▂▁▁▂▁▁▁▁▁▁</td></tr><tr><td>trainer/global_step</td><td>▁▁▁▂▂▂▂▂▂▃▃▃▃▃▃▄▄▄▄▄▅▅▅▅▅▅▆▆▆▆▆▇▇▇▇▇▇███</td></tr><tr><td>val_acc</td><td>▁▅▅▆▆▇▇███</td></tr><tr><td>val_loss</td><td>█▄▅▃▃▂▂▁▁▁</td></tr></table><br/></div><div class=\"wandb-col\"><h3>Run summary:</h3><br/><table class=\"wandb\"><tr><td>epoch</td><td>10</td></tr><tr><td>test_acc</td><td>0.9677</td></tr><tr><td>test_loss</td><td>0.11056</td></tr><tr><td>train_acc_epoch</td><td>0.97524</td></tr><tr><td>train_acc_step</td><td>1.0</td></tr><tr><td>train_loss_epoch</td><td>0.08759</td></tr><tr><td>train_loss_step</td><td>0.02482</td></tr><tr><td>trainer/global_step</td><td>16880</td></tr><tr><td>val_acc</td><td>0.96833</td></tr><tr><td>val_loss</td><td>0.10953</td></tr></table><br/></div></div>"
      ],
      "text/plain": [
       "<IPython.core.display.HTML object>"
      ]
     },
     "metadata": {},
     "output_type": "display_data"
    },
    {
     "data": {
      "text/html": [
       " View run <strong style=\"color:#cdcd00\">RNN</strong> at: <a href='https://wandb.ai/hcim/MNIST/runs/3ou5dy30' target=\"_blank\">https://wandb.ai/hcim/MNIST/runs/3ou5dy30</a><br/> View project at: <a href='https://wandb.ai/hcim/MNIST' target=\"_blank\">https://wandb.ai/hcim/MNIST</a><br/>Synced 5 W&B file(s), 352 media file(s), 0 artifact file(s) and 0 other file(s)"
      ],
      "text/plain": [
       "<IPython.core.display.HTML object>"
      ]
     },
     "metadata": {},
     "output_type": "display_data"
    },
    {
     "data": {
      "text/html": [
       "Find logs at: <code>./wandb/run-20240415_163241-3ou5dy30/logs</code>"
      ],
      "text/plain": [
       "<IPython.core.display.HTML object>"
      ]
     },
     "metadata": {},
     "output_type": "display_data"
    }
   ],
   "source": [
    "best_model_path = checkpoint_callback.best_model_path\n",
    "print(\"Best model path:\", best_model_path)  # 경로 확인\n",
    "\n",
    "#best_model = RNN.load_from_checkpoint(best_model_path)\n",
    "trainer.test(model, dm.test_dataloader())\n",
    "wandb.finish()"
   ]
  }
 ],
 "metadata": {
  "kernelspec": {
   "display_name": "Python 3",
   "language": "python",
   "name": "python3"
  },
  "language_info": {
   "codemirror_mode": {
    "name": "ipython",
    "version": 3
   },
   "file_extension": ".py",
   "mimetype": "text/x-python",
   "name": "python",
   "nbconvert_exporter": "python",
   "pygments_lexer": "ipython3",
   "version": "3.10.12"
  }
 },
 "nbformat": 4,
 "nbformat_minor": 2
}
